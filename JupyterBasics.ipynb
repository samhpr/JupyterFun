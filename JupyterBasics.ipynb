{
 "cells": [
  {
   "cell_type": "code",
   "execution_count": 1,
   "metadata": {},
   "outputs": [
    {
     "name": "stdout",
     "output_type": "stream",
     "text": [
      "hello\n"
     ]
    }
   ],
   "source": [
    "print(\"hello\")"
   ]
  },
  {
   "cell_type": "markdown",
   "metadata": {},
   "source": [
    "# This is a Level One Header\n",
    "## This is a Level Two Header\n",
    "This is paragraph text\n",
    "This is another line\n",
    "\n",
    "Hard break: two new lines\n",
    "\n",
    "Next line\n",
    "\n",
    "Soft break: 2 spaces and a new line  \n",
    "Next line"
   ]
  },
  {
   "cell_type": "markdown",
   "metadata": {},
   "source": [
    "## Formatting\n",
    "We can **bold** *italicize* ~strikethrough~ `code format`\n",
    "\n",
    "```python\n",
    "for i in range(5):\n",
    "    print(i)\n",
    "```\n",
    "\n",
    "> This is a\n",
    "block quote"
   ]
  },
  {
   "cell_type": "markdown",
   "metadata": {},
   "source": [
    "## Lists\n",
    "Unordered list\n",
    "* Item A\n",
    "* Item B\n",
    "* Item C\n",
    "\n",
    "Ordered list\n",
    "1. Item A\n",
    "1. Item B\n",
    "1. Item C\n",
    "\n",
    "We can nest and mix list types\n",
    "1. Item 1\n",
    "1. Item 2\n",
    "    * Item A\n",
    "    * Item B\n",
    "1. Item 3 \n",
    "    1. Item 3.1\n",
    "    1. Item 3.2"
   ]
  },
  {
   "cell_type": "markdown",
   "metadata": {},
   "source": [
    "## Links\n",
    "Shows the link: https://www.markdowntutorial.com/\n",
    "\n",
    "I recommend you do [this](https://www.markdowntutorial.com/) markdown tutorial"
   ]
  },
  {
   "cell_type": "markdown",
   "metadata": {},
   "source": [
    "## Images\n",
    "![An image of ](https://cdn.foliovision.com/images/2017/03/i-love-markdown.png)\n",
    "\n",
    "Resize the image with HTML\n",
    "\n",
    "<img src=\"https://cdn.foliovision.com/images/2017/03/i-love-markdown.png\" width=\"300\">"
   ]
  },
  {
   "cell_type": "markdown",
   "metadata": {},
   "source": [
    "## Tables\n",
    "NAME|PTS|CLASS\n",
    "-|-|-\n",
    "Andrew Nembhard|272|Sr\n",
    "Anton Watson|206|Jr"
   ]
  },
  {
   "cell_type": "markdown",
   "metadata": {},
   "source": [
    "## Latex (Math Mode)\n",
    "Latex is a mathematical typesetting language/framework used for writing documents and typesettings nice math expressions/formulas. \n",
    "\n",
    "We will only use Latex's math mode in this class.\n",
    "\n",
    "Subscripts: $x_i$ $$x_i$$ $x_{i+1}$\n",
    "Superscripts: $x^i$ $x^{i + 1}$\n",
    "Symbols over characters: $\\overline{x + 1}$ $\\widehat{x + 1}$\n",
    "Special characters: $\\pi \\mu \\sigma$\n",
    "Square roots: $\\sqrt{x + y + x}$\n",
    "Fractions: $\\frac{1}{sqrt{x + y + z}}$\n",
    "Sums: $\\sum_{n=1} ^ {\\infty} 2^{-n}$"
   ]
  },
  {
   "cell_type": "markdown",
   "metadata": {},
   "source": []
  }
 ],
 "metadata": {
  "kernelspec": {
   "display_name": "Python 3.9.12 ('base')",
   "language": "python",
   "name": "python3"
  },
  "language_info": {
   "codemirror_mode": {
    "name": "ipython",
    "version": 3
   },
   "file_extension": ".py",
   "mimetype": "text/x-python",
   "name": "python",
   "nbconvert_exporter": "python",
   "pygments_lexer": "ipython3",
   "version": "3.9.12"
  },
  "orig_nbformat": 4,
  "vscode": {
   "interpreter": {
    "hash": "e5ae5c5ffadcc720ad345315bca8222d9b54622745dedd7a100ddee36e6b85bb"
   }
  }
 },
 "nbformat": 4,
 "nbformat_minor": 2
}
